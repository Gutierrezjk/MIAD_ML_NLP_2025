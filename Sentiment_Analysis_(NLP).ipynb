{
  "nbformat": 4,
  "nbformat_minor": 0,
  "metadata": {
    "colab": {
      "provenance": [],
      "include_colab_link": true
    },
    "kernelspec": {
      "name": "python3",
      "display_name": "Python 3"
    },
    "language_info": {
      "name": "python"
    }
  },
  "cells": [
    {
      "cell_type": "markdown",
      "metadata": {
        "id": "view-in-github",
        "colab_type": "text"
      },
      "source": [
        "<a href=\"https://colab.research.google.com/github/Gutierrezjk/MIAD_ML_NLP_2025/blob/main/Sentiment_Analysis_(NLP).ipynb\" target=\"_parent\"><img src=\"https://colab.research.google.com/assets/colab-badge.svg\" alt=\"Open In Colab\"/></a>"
      ]
    },
    {
      "cell_type": "code",
      "execution_count": null,
      "metadata": {
        "colab": {
          "base_uri": "https://localhost:8080/"
        },
        "id": "0CCG3wIRS-zH",
        "outputId": "30e32696-fccb-4407-b1d8-66f8a46e7d3a"
      },
      "outputs": [
        {
          "output_type": "stream",
          "name": "stdout",
          "text": [
            "Data shape: (50000, 2)\n",
            "                                              review sentiment\n",
            "0  One of the other reviewers has mentioned that ...  positive\n",
            "1  A wonderful little production. <br /><br />The...  positive\n",
            "2  I thought this was a wonderful way to spend ti...  positive\n",
            "3  Basically there's a family where a little boy ...  negative\n",
            "4  Petter Mattei's \"Love in the Time of Money\" is...  positive\n"
          ]
        }
      ],
      "source": [
        "import numpy as np\n",
        "import pandas as pd\n",
        "\n",
        "# Set a fixed seed to ensure our results are reproducible.\n",
        "np.random.seed(42)\n",
        "\n",
        "# Load the IMDb movie reviews dataset from GitHub.\n",
        "# Note: This dataset contains text reviews and sentiment labels.\n",
        "url = (\n",
        "    \"https://raw.githubusercontent.com/Ankit152/IMDB-sentiment-analysis/refs/heads/master/IMDB-Dataset.csv\"\n",
        "\n",
        ")\n",
        "df = pd.read_csv(url)\n",
        "\n",
        "# Check the shape of the data (rows, columns) and preview the first few records.\n",
        "print(\"Data shape:\", df.shape)\n",
        "print(df.head())"
      ]
    },
    {
      "cell_type": "code",
      "source": [
        "import re\n",
        "\n",
        "def preprocessor(text):\n",
        "    \"\"\"\n",
        "    Clean the input text:\n",
        "    - Remove HTML markup.\n",
        "    - Extract emoticons and preserve them.\n",
        "    - Remove non-word characters (like punctuation) and convert to lowercase.\n",
        "    - Append cleaned emoticons (without the hyphen) back to the text.\n",
        "    \"\"\"\n",
        "    # Remove HTML tags using regex\n",
        "    text = re.sub(r\"<[^>]*>\", \"\", text)\n",
        "\n",
        "    # Find emoticons (patterns like :), :-), :D, etc.)\n",
        "    emoticons = re.findall(r\"(?::|;|=)(?:-)?(?:\\)|\\(|D|P)\", text)\n",
        "\n",
        "    # Remove non-word characters, change text to lowercase, and append emoticons at the end.\n",
        "    text = re.sub(r\"[\\W]+\", \" \", text.lower()) + \" \" + \" \".join(emoticons).replace(\"-\", \"\")\n",
        "    return text\n",
        "\n",
        "# Apply the preprocessor to our reviews\n",
        "df[\"review_clean\"] = df[\"review\"].apply(preprocessor)\n",
        "\n",
        "# Print a sample cleaned review (displaying the last 100 characters for brevity)\n",
        "print(\"\\nSample cleaned review:\", df.loc[0, \"review_clean\"][-100:])"
      ],
      "metadata": {
        "colab": {
          "base_uri": "https://localhost:8080/"
        },
        "id": "B5uMWIMSUQyt",
        "outputId": "5e561fd6-18fe-43c0-a59d-d97f1845f455"
      },
      "execution_count": null,
      "outputs": [
        {
          "output_type": "stream",
          "name": "stdout",
          "text": [
            "\n",
            "Sample cleaned review: comfortable with what is uncomfortable viewing thats if you can get in touch with your darker side  \n"
          ]
        }
      ]
    },
    {
      "cell_type": "code",
      "source": [
        "from sklearn.feature_extraction.text import CountVectorizer\n",
        "\n",
        "# Instantiate the CountVectorizer.\n",
        "# This will first split our text into tokens and then count occurrences.\n",
        "vectorizer = CountVectorizer()\n",
        "\n",
        "# Fit the vectorizer on our cleaned review texts and transform them into numerical feature vectors.\n",
        "X = vectorizer.fit_transform(df[\"review_clean\"])\n",
        "\n",
        "# Let’s inspect a small portion of the resulting vocabulary.\n",
        "print(\"\\nSample vocabulary mapping (word -> index):\")\n",
        "sample_vocab = dict(list(vectorizer.vocabulary_.items())[:10])\n",
        "print(sample_vocab)\n",
        "\n",
        "# Also print the bag-of-words array for the first 3 reviews.\n",
        "print(\"\\nBag-of-words representation for the first 3 reviews:\")\n",
        "print(X[:3].toarray())"
      ],
      "metadata": {
        "colab": {
          "base_uri": "https://localhost:8080/"
        },
        "id": "O7DdfYRkUmK1",
        "outputId": "e520614e-cb00-4bc7-b528-cfa48f4eaa07"
      },
      "execution_count": null,
      "outputs": [
        {
          "output_type": "stream",
          "name": "stdout",
          "text": [
            "\n",
            "Sample vocabulary mapping (word -> index):\n",
            "{'one': 65523, 'of': 65112, 'the': 91976, 'other': 66197, 'reviewers': 77049, 'has': 41639, 'mentioned': 58782, 'that': 91940, 'after': 3161, 'watching': 100325}\n",
            "\n",
            "Bag-of-words representation for the first 3 reviews:\n",
            "[[0 0 0 ... 0 0 0]\n",
            " [0 0 0 ... 0 0 0]\n",
            " [0 0 0 ... 0 0 0]]\n"
          ]
        }
      ]
    },
    {
      "cell_type": "code",
      "source": [
        "from sklearn.model_selection import train_test_split\n",
        "from sklearn.linear_model import LogisticRegression\n",
        "from sklearn.metrics import accuracy_score\n",
        "\n",
        "# Convert sentiment labels to binary: \"positive\" -> 1, \"negative\" -> 0\n",
        "df[\"sentiment_bin\"] = df[\"sentiment\"].map({\"positive\": 1, \"negative\": 0})\n",
        "\n",
        "# Split the data: 80% training and 20% testing\n",
        "X_train, X_test, y_train, y_test = train_test_split(\n",
        "    X, df[\"sentiment_bin\"], test_size=0.2, random_state=42\n",
        ")\n",
        "\n",
        "# Initialize a logistic regression model.\n",
        "# We use the 'liblinear' solver which is well-suited for small-to-medium datasets.\n",
        "lr = LogisticRegression(solver=\"liblinear\")\n",
        "\n",
        "# Train the model on our training data.\n",
        "lr.fit(X_train, y_train)\n",
        "\n",
        "# Evaluate the model's performance on the test set.\n",
        "y_pred = lr.predict(X_test)\n",
        "accuracy = accuracy_score(y_test, y_pred)\n",
        "print(f\"\\nTest Accuracy: {accuracy:.3f}\")\n"
      ],
      "metadata": {
        "colab": {
          "base_uri": "https://localhost:8080/"
        },
        "id": "QacAtrJRUqgH",
        "outputId": "4333b4b1-de0b-41f6-98eb-a4fb24ad8004"
      },
      "execution_count": null,
      "outputs": [
        {
          "output_type": "stream",
          "name": "stdout",
          "text": [
            "\n",
            "Test Accuracy: 0.889\n"
          ]
        }
      ]
    },
    {
      "cell_type": "code",
      "source": [
        "# Retrieve feature names (words) from our vectorizer.\n",
        "feature_names = np.array(vectorizer.get_feature_names_out())\n",
        "\n",
        "# Flatten the array of coefficients from our logistic regression model.\n",
        "coef = lr.coef_.ravel()\n",
        "\n",
        "# Find the top 10 words that increase sentiment.\n",
        "top_pos_indices = np.argsort(coef)[-10:]\n",
        "print(\"\\nTop 10 words likely to indicate positive sentiment:\")\n",
        "for idx in top_pos_indices:\n",
        "    print(f\"{feature_names[idx]}: {coef[idx]:.4f}\")\n",
        "\n",
        "# Find the top 10 words that decrease sentiment.\n",
        "top_neg_indices = np.argsort(coef)[:10]\n",
        "print(\"\\nTop 10 words likely to indicate negative sentiment:\")\n",
        "for idx in top_neg_indices:\n",
        "    print(f\"{feature_names[idx]}: {coef[idx]:.4f}\")\n"
      ],
      "metadata": {
        "colab": {
          "base_uri": "https://localhost:8080/"
        },
        "id": "2uk6NA4QUv8H",
        "outputId": "d27d4c27-515d-46fa-90b6-dc5c14687ef6"
      },
      "execution_count": null,
      "outputs": [
        {
          "output_type": "stream",
          "name": "stdout",
          "text": [
            "\n",
            "Top 10 words likely to indicate positive sentiment:\n",
            "underrated: 1.2617\n",
            "dismiss: 1.2719\n",
            "notting: 1.2729\n",
            "nevertheless: 1.2860\n",
            "appreciated: 1.2981\n",
            "pleased: 1.3016\n",
            "apocalyptic: 1.3494\n",
            "disappoint: 1.3961\n",
            "hooked: 1.6563\n",
            "refreshing: 1.7364\n",
            "\n",
            "Top 10 words likely to indicate negative sentiment:\n",
            "waste: -2.1675\n",
            "worst: -2.0344\n",
            "disappointment: -1.9288\n",
            "forgettable: -1.7623\n",
            "mst3k: -1.6629\n",
            "uninteresting: -1.6447\n",
            "awful: -1.5995\n",
            "disappointing: -1.5612\n",
            "lacks: -1.5602\n",
            "mediocre: -1.5590\n"
          ]
        }
      ]
    },
    {
      "cell_type": "code",
      "source": [],
      "metadata": {
        "id": "QwcXuJqDUxdT"
      },
      "execution_count": null,
      "outputs": []
    }
  ]
}